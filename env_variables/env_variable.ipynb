{
 "cells": [
  {
   "cell_type": "markdown",
   "metadata": {},
   "source": [
    "# Environment Variables\n",
    "### How to create secret variables"
   ]
  },
  {
   "cell_type": "markdown",
   "metadata": {},
   "source": [
    "Create a .env file and ADD TO .gitignore!!!!\n",
    "\n",
    "format as: THIS_IS_MY_SECRET_VARIABLE = the_secret_variable\n",
    "(see .env)\n"
   ]
  },
  {
   "cell_type": "code",
   "execution_count": 6,
   "metadata": {},
   "outputs": [
    {
     "data": {
      "text/plain": [
       "'the_secret_variable'"
      ]
     },
     "execution_count": 6,
     "metadata": {},
     "output_type": "execute_result"
    }
   ],
   "source": [
    "# imports\n",
    "from os import environ as ENV\n",
    "from dotenv import load_dotenv\n",
    "\n",
    "# Load secret variables\n",
    "load_dotenv()\n",
    "\n",
    "# Call variables\n",
    "my_variable = ENV[\"THIS_IS_MY_SECRET_VARIABLE\"]\n",
    "my_variable"
   ]
  }
 ],
 "metadata": {
  "kernelspec": {
   "display_name": ".venv",
   "language": "python",
   "name": "python3"
  },
  "language_info": {
   "codemirror_mode": {
    "name": "ipython",
    "version": 3
   },
   "file_extension": ".py",
   "mimetype": "text/x-python",
   "name": "python",
   "nbconvert_exporter": "python",
   "pygments_lexer": "ipython3",
   "version": "3.13.0"
  }
 },
 "nbformat": 4,
 "nbformat_minor": 2
}
