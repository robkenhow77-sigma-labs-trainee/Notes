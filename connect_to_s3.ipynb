{
 "cells": [
  {
   "cell_type": "markdown",
   "metadata": {},
   "source": [
    "# Connecting to Amazon s3\\\n",
    "\n",
    "Always use ENV variables to protect sensitive information, this includes:\n",
    "- access key\n",
    "- secret access key\n",
    "- bucket names\n",
    "\n",
    "Essentially anything that is unique to your s3 account."
   ]
  },
  {
   "cell_type": "markdown",
   "metadata": {},
   "source": [
    "The module used to connect to s3 is boto3. This is an amazon SDK for interacting with s3.\\\n",
    "The first thing to do is make a client object."
   ]
  },
  {
   "cell_type": "code",
   "execution_count": 2,
   "metadata": {},
   "outputs": [],
   "source": [
    "from boto3 import client\n",
    "\n",
    "# 's3' is the service name, indicating which service you want to use.\n",
    "# Input access keys using ENV variables\n",
    "s3 = client('s3', aws_access_key_id=\"###\", aws_secret_access_key = \"###\")"
   ]
  },
  {
   "cell_type": "markdown",
   "metadata": {},
   "source": [
    "s3 uses buckets to store data. A bucket is like a folder. To see all the buckets, use list_buckets(). This will return a dictionary of all the buckets and their data.\n",
    "\n",
    "Use .keys() to help understand the dictionary.\n",
    "\n",
    "To get the names of all the buckets use:\n",
    "\n",
    "for bucket in s3.list_buckets()[\"Buckets\"]:\\\n",
    "--- print(bucket[\"Name\"])"
   ]
  },
  {
   "cell_type": "code",
   "execution_count": null,
   "metadata": {},
   "outputs": [],
   "source": [
    "# To view what is in the bucket, use:\n",
    "objs = s3.list_objects(Bucket=\"bucket_name\")\n",
    "print(objs)\n",
    "# This will tell you everything in the bucket. \n",
    "\n",
    "# To view the files in bucket run:\n",
    "for obj in objs[\"Contents\"]:  # --> gets the contents of each bucket\n",
    "    print(obj)\n",
    "\n",
    "# [\"Key\"] will give you the filename."
   ]
  },
  {
   "cell_type": "markdown",
   "metadata": {},
   "source": [
    "## Make sure you look at the documentation!"
   ]
  }
 ],
 "metadata": {
  "kernelspec": {
   "display_name": ".venv",
   "language": "python",
   "name": "python3"
  },
  "language_info": {
   "codemirror_mode": {
    "name": "ipython",
    "version": 3
   },
   "file_extension": ".py",
   "mimetype": "text/x-python",
   "name": "python",
   "nbconvert_exporter": "python",
   "pygments_lexer": "ipython3",
   "version": "3.13.0"
  }
 },
 "nbformat": 4,
 "nbformat_minor": 2
}
