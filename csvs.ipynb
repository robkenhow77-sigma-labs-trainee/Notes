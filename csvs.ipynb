{
 "cells": [
  {
   "cell_type": "markdown",
   "metadata": {},
   "source": [
    "# Working with csvs"
   ]
  },
  {
   "cell_type": "markdown",
   "metadata": {},
   "source": [
    "## read vs readlines vs reader"
   ]
  },
  {
   "cell_type": "markdown",
   "metadata": {},
   "source": [
    "### Example csv: \n",
    "name, position, foot\\\n",
    "Haaland, CF, left\\\n",
    "Saka, RW, left\\\n",
    "Mbappe, LW, right"
   ]
  },
  {
   "cell_type": "code",
   "execution_count": 1,
   "metadata": {},
   "outputs": [],
   "source": [
    "# Import csv\n",
    "import csv"
   ]
  },
  {
   "cell_type": "markdown",
   "metadata": {},
   "source": [
    "## read\n",
    "Can be used on any file. Returns the entire contents as a string "
   ]
  },
  {
   "cell_type": "code",
   "execution_count": 4,
   "metadata": {},
   "outputs": [
    {
     "data": {
      "text/plain": [
       "'name, position, foot\\nHaaland, CF, left\\nSaka, RW, left\\nMbappe, LW, right'"
      ]
     },
     "execution_count": 4,
     "metadata": {},
     "output_type": "execute_result"
    }
   ],
   "source": [
    "with open('example.csv', mode='r', encoding='UTF-8') as example:\n",
    "    file = example.read()\n",
    "file"
   ]
  },
  {
   "cell_type": "markdown",
   "metadata": {},
   "source": [
    "## readlines\n",
    "Can be ued on any file. Returns a list where each value is a string of the row."
   ]
  },
  {
   "cell_type": "code",
   "execution_count": 5,
   "metadata": {},
   "outputs": [
    {
     "data": {
      "text/plain": [
       "['name, position, foot\\n',\n",
       " 'Haaland, CF, left\\n',\n",
       " 'Saka, RW, left\\n',\n",
       " 'Mbappe, LW, right']"
      ]
     },
     "execution_count": 5,
     "metadata": {},
     "output_type": "execute_result"
    }
   ],
   "source": [
    "with open('example.csv', mode='r', encoding='UTF-8') as example:\n",
    "    file = example.readlines()\n",
    "file"
   ]
  },
  {
   "cell_type": "markdown",
   "metadata": {},
   "source": [
    "## reader\n",
    "This is a csv module function. Returns a reader object. Like a list of lists where each element is a csv entry."
   ]
  },
  {
   "cell_type": "code",
   "execution_count": 9,
   "metadata": {},
   "outputs": [
    {
     "name": "stdout",
     "output_type": "stream",
     "text": [
      "['name', ' position', ' foot']\n",
      "['Haaland', ' CF', ' left']\n",
      "['Saka', ' RW', ' left']\n",
      "['Mbappe', ' LW', ' right']\n"
     ]
    }
   ],
   "source": [
    "with open('example.csv', mode='r', encoding='UTF-8') as example:\n",
    "    file = csv.reader(example)\n",
    "    for row in file:\n",
    "        print(row)"
   ]
  },
  {
   "cell_type": "code",
   "execution_count": null,
   "metadata": {},
   "outputs": [],
   "source": []
  }
 ],
 "metadata": {
  "kernelspec": {
   "display_name": ".venv",
   "language": "python",
   "name": "python3"
  },
  "language_info": {
   "codemirror_mode": {
    "name": "ipython",
    "version": 3
   },
   "file_extension": ".py",
   "mimetype": "text/x-python",
   "name": "python",
   "nbconvert_exporter": "python",
   "pygments_lexer": "ipython3",
   "version": "3.13.0"
  }
 },
 "nbformat": 4,
 "nbformat_minor": 2
}
