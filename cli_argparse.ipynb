{
 "cells": [
  {
   "cell_type": "markdown",
   "metadata": {},
   "source": [
    "# Using Command Line Interface (CLI) options"
   ]
  },
  {
   "cell_type": "markdown",
   "metadata": {},
   "source": [
    "CLI options allow you to change the way a script performs from the command line.\n",
    "\n",
    "For example:\\\n",
    "python3 file.py --do_something --and_something_else\n",
    "\n",
    "To use CLI options, use the **argparse** module. This is a python standard library."
   ]
  },
  {
   "cell_type": "code",
   "execution_count": 17,
   "metadata": {},
   "outputs": [],
   "source": [
    "from argparse import ArgumentParser\n",
    "\n",
    "# Initialise\n",
    "parser = ArgumentParser()"
   ]
  },
  {
   "cell_type": "markdown",
   "metadata": {},
   "source": [
    "### Storing boolean values\n",
    "\n",
    "The first two arguments are the shorthand and long hand names used in the CLI.\\\n",
    "To use the example action you run:\n",
    "\n",
    "python3 file.py -e\n",
    "\n",
    "or\n",
    "\n",
    "python3 file.py --example"
   ]
  },
  {
   "cell_type": "code",
   "execution_count": null,
   "metadata": {},
   "outputs": [],
   "source": [
    "# To add arguments use parser.add_argument()\n",
    "# Always include help=\"...\"\n",
    "\n",
    "# Store a boolean\n",
    "\n",
    "parser.add_argument(\"-e\", \"--example\", action='store_true', help=\"-e or --example creates a boolean.\")"
   ]
  },
  {
   "cell_type": "markdown",
   "metadata": {},
   "source": [
    "If the file is run without the option being called the example boolean is set to False.\\\n",
    "it is only when the option is included that the variable is stored as True."
   ]
  },
  {
   "cell_type": "markdown",
   "metadata": {},
   "source": [
    "### Accessing inputs\n",
    "\n",
    "To get input of an option you first call the parse_args() method on the parser object,\\\n",
    "then use args.option_name"
   ]
  },
  {
   "cell_type": "code",
   "execution_count": null,
   "metadata": {},
   "outputs": [],
   "source": [
    "args = parser.parse_args()\n",
    "args.example"
   ]
  },
  {
   "cell_type": "markdown",
   "metadata": {},
   "source": [
    "### Storing strings or integers\n",
    "\n",
    "To store an integer or string modify the add_argument method.\\\n",
    "TO access the variable do exactly the same as above."
   ]
  },
  {
   "cell_type": "code",
   "execution_count": null,
   "metadata": {},
   "outputs": [],
   "source": [
    "parser.add_argument(\"-w\", \"--word\", type=str, help=\"-w or --word creates a word.\")\n",
    "\n",
    "# or\n",
    "\n",
    "parser.add_argument(\"-n\", \"--num\", type=int, help=\"-n or --num creates an integer.\")"
   ]
  },
  {
   "cell_type": "markdown",
   "metadata": {},
   "source": [
    "### Required inputs\n",
    "\n",
    "CLI options can be require or optional. Buy default they are optional.\\\n",
    "In the case above, not providing an input would result in a None value.\\\n",
    "In the examples below not the file won't run unless a word is provided.\\\n",
    "If a number is not provided it will default to 15."
   ]
  },
  {
   "cell_type": "code",
   "execution_count": null,
   "metadata": {},
   "outputs": [],
   "source": [
    "parser.add_argument(\"-w\", \"--word\", type=str, require= True, help=\"-w or --word creates a word, must be required.\")\n",
    "\n",
    "# or\n",
    "\n",
    "parser.add_argument(\"-n\", \"--num\", type=int, default=15, help=\"-n or --num creates an integer, optional wit default set to 15.\")"
   ]
  }
 ],
 "metadata": {
  "kernelspec": {
   "display_name": ".venv",
   "language": "python",
   "name": "python3"
  },
  "language_info": {
   "codemirror_mode": {
    "name": "ipython",
    "version": 3
   },
   "file_extension": ".py",
   "mimetype": "text/x-python",
   "name": "python",
   "nbconvert_exporter": "python",
   "pygments_lexer": "ipython3",
   "version": "3.13.0"
  }
 },
 "nbformat": 4,
 "nbformat_minor": 2
}
